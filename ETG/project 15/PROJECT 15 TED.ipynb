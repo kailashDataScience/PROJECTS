{
 "cells": [
  {
   "cell_type": "code",
   "execution_count": 102,
   "id": "2cbd86cc",
   "metadata": {},
   "outputs": [],
   "source": [
    "import pandas as pd\n",
    "import matplotlib.pyplot as plt"
   ]
  },
  {
   "cell_type": "code",
   "execution_count": 2,
   "id": "84cc4345",
   "metadata": {},
   "outputs": [],
   "source": [
    "df = pd.read_csv('ted_data.csv')"
   ]
  },
  {
   "cell_type": "code",
   "execution_count": 3,
   "id": "9238a03b",
   "metadata": {},
   "outputs": [
    {
     "name": "stdout",
     "output_type": "stream",
     "text": [
      "<class 'pandas.core.frame.DataFrame'>\n",
      "RangeIndex: 5440 entries, 0 to 5439\n",
      "Data columns (total 6 columns):\n",
      " #   Column  Non-Null Count  Dtype \n",
      "---  ------  --------------  ----- \n",
      " 0   title   5440 non-null   object\n",
      " 1   author  5439 non-null   object\n",
      " 2   date    5440 non-null   object\n",
      " 3   views   5440 non-null   int64 \n",
      " 4   likes   5440 non-null   int64 \n",
      " 5   link    5440 non-null   object\n",
      "dtypes: int64(2), object(4)\n",
      "memory usage: 255.1+ KB\n"
     ]
    }
   ],
   "source": [
    "df.info()"
   ]
  },
  {
   "cell_type": "code",
   "execution_count": 4,
   "id": "2787abd3",
   "metadata": {},
   "outputs": [
    {
     "data": {
      "text/html": [
       "<div>\n",
       "<style scoped>\n",
       "    .dataframe tbody tr th:only-of-type {\n",
       "        vertical-align: middle;\n",
       "    }\n",
       "\n",
       "    .dataframe tbody tr th {\n",
       "        vertical-align: top;\n",
       "    }\n",
       "\n",
       "    .dataframe thead th {\n",
       "        text-align: right;\n",
       "    }\n",
       "</style>\n",
       "<table border=\"1\" class=\"dataframe\">\n",
       "  <thead>\n",
       "    <tr style=\"text-align: right;\">\n",
       "      <th></th>\n",
       "      <th>title</th>\n",
       "      <th>author</th>\n",
       "      <th>date</th>\n",
       "      <th>views</th>\n",
       "      <th>likes</th>\n",
       "      <th>link</th>\n",
       "    </tr>\n",
       "  </thead>\n",
       "  <tbody>\n",
       "    <tr>\n",
       "      <th>0</th>\n",
       "      <td>Climate action needs new frontline leadership</td>\n",
       "      <td>Ozawa Bineshi Albert</td>\n",
       "      <td>December 2021</td>\n",
       "      <td>404000</td>\n",
       "      <td>12000</td>\n",
       "      <td>https://ted.com/talks/ozawa_bineshi_albert_cli...</td>\n",
       "    </tr>\n",
       "    <tr>\n",
       "      <th>1</th>\n",
       "      <td>The dark history of the overthrow of Hawaii</td>\n",
       "      <td>Sydney Iaukea</td>\n",
       "      <td>February 2022</td>\n",
       "      <td>214000</td>\n",
       "      <td>6400</td>\n",
       "      <td>https://ted.com/talks/sydney_iaukea_the_dark_h...</td>\n",
       "    </tr>\n",
       "    <tr>\n",
       "      <th>2</th>\n",
       "      <td>How play can spark new ideas for your business</td>\n",
       "      <td>Martin Reeves</td>\n",
       "      <td>September 2021</td>\n",
       "      <td>412000</td>\n",
       "      <td>12000</td>\n",
       "      <td>https://ted.com/talks/martin_reeves_how_play_c...</td>\n",
       "    </tr>\n",
       "    <tr>\n",
       "      <th>3</th>\n",
       "      <td>Why is China appointing judges to combat clima...</td>\n",
       "      <td>James K. Thornton</td>\n",
       "      <td>October 2021</td>\n",
       "      <td>427000</td>\n",
       "      <td>12000</td>\n",
       "      <td>https://ted.com/talks/james_k_thornton_why_is_...</td>\n",
       "    </tr>\n",
       "    <tr>\n",
       "      <th>4</th>\n",
       "      <td>Cement's carbon problem — and 2 ways to fix it</td>\n",
       "      <td>Mahendra Singhi</td>\n",
       "      <td>October 2021</td>\n",
       "      <td>2400</td>\n",
       "      <td>72</td>\n",
       "      <td>https://ted.com/talks/mahendra_singhi_cement_s...</td>\n",
       "    </tr>\n",
       "  </tbody>\n",
       "</table>\n",
       "</div>"
      ],
      "text/plain": [
       "                                               title                author  \\\n",
       "0      Climate action needs new frontline leadership  Ozawa Bineshi Albert   \n",
       "1        The dark history of the overthrow of Hawaii         Sydney Iaukea   \n",
       "2     How play can spark new ideas for your business         Martin Reeves   \n",
       "3  Why is China appointing judges to combat clima...     James K. Thornton   \n",
       "4     Cement's carbon problem — and 2 ways to fix it       Mahendra Singhi   \n",
       "\n",
       "             date   views  likes  \\\n",
       "0   December 2021  404000  12000   \n",
       "1   February 2022  214000   6400   \n",
       "2  September 2021  412000  12000   \n",
       "3    October 2021  427000  12000   \n",
       "4    October 2021    2400     72   \n",
       "\n",
       "                                                link  \n",
       "0  https://ted.com/talks/ozawa_bineshi_albert_cli...  \n",
       "1  https://ted.com/talks/sydney_iaukea_the_dark_h...  \n",
       "2  https://ted.com/talks/martin_reeves_how_play_c...  \n",
       "3  https://ted.com/talks/james_k_thornton_why_is_...  \n",
       "4  https://ted.com/talks/mahendra_singhi_cement_s...  "
      ]
     },
     "execution_count": 4,
     "metadata": {},
     "output_type": "execute_result"
    }
   ],
   "source": [
    "df.head()"
   ]
  },
  {
   "cell_type": "code",
   "execution_count": 6,
   "id": "8034837a",
   "metadata": {},
   "outputs": [
    {
     "data": {
      "text/html": [
       "<div>\n",
       "<style scoped>\n",
       "    .dataframe tbody tr th:only-of-type {\n",
       "        vertical-align: middle;\n",
       "    }\n",
       "\n",
       "    .dataframe tbody tr th {\n",
       "        vertical-align: top;\n",
       "    }\n",
       "\n",
       "    .dataframe thead th {\n",
       "        text-align: right;\n",
       "    }\n",
       "</style>\n",
       "<table border=\"1\" class=\"dataframe\">\n",
       "  <thead>\n",
       "    <tr style=\"text-align: right;\">\n",
       "      <th></th>\n",
       "      <th>views</th>\n",
       "      <th>likes</th>\n",
       "    </tr>\n",
       "  </thead>\n",
       "  <tbody>\n",
       "    <tr>\n",
       "      <th>count</th>\n",
       "      <td>5.440000e+03</td>\n",
       "      <td>5.440000e+03</td>\n",
       "    </tr>\n",
       "    <tr>\n",
       "      <th>mean</th>\n",
       "      <td>2.061576e+06</td>\n",
       "      <td>6.260762e+04</td>\n",
       "    </tr>\n",
       "    <tr>\n",
       "      <th>std</th>\n",
       "      <td>3.567098e+06</td>\n",
       "      <td>1.076468e+05</td>\n",
       "    </tr>\n",
       "    <tr>\n",
       "      <th>min</th>\n",
       "      <td>5.320000e+02</td>\n",
       "      <td>1.500000e+01</td>\n",
       "    </tr>\n",
       "    <tr>\n",
       "      <th>25%</th>\n",
       "      <td>6.707500e+05</td>\n",
       "      <td>2.000000e+04</td>\n",
       "    </tr>\n",
       "    <tr>\n",
       "      <th>50%</th>\n",
       "      <td>1.300000e+06</td>\n",
       "      <td>4.050000e+04</td>\n",
       "    </tr>\n",
       "    <tr>\n",
       "      <th>75%</th>\n",
       "      <td>2.100000e+06</td>\n",
       "      <td>6.500000e+04</td>\n",
       "    </tr>\n",
       "    <tr>\n",
       "      <th>max</th>\n",
       "      <td>7.200000e+07</td>\n",
       "      <td>2.100000e+06</td>\n",
       "    </tr>\n",
       "  </tbody>\n",
       "</table>\n",
       "</div>"
      ],
      "text/plain": [
       "              views         likes\n",
       "count  5.440000e+03  5.440000e+03\n",
       "mean   2.061576e+06  6.260762e+04\n",
       "std    3.567098e+06  1.076468e+05\n",
       "min    5.320000e+02  1.500000e+01\n",
       "25%    6.707500e+05  2.000000e+04\n",
       "50%    1.300000e+06  4.050000e+04\n",
       "75%    2.100000e+06  6.500000e+04\n",
       "max    7.200000e+07  2.100000e+06"
      ]
     },
     "execution_count": 6,
     "metadata": {},
     "output_type": "execute_result"
    }
   ],
   "source": [
    "df.describe()"
   ]
  },
  {
   "cell_type": "code",
   "execution_count": 8,
   "id": "3449c59c",
   "metadata": {},
   "outputs": [
    {
     "data": {
      "text/plain": [
       "title     0\n",
       "author    1\n",
       "date      0\n",
       "views     0\n",
       "likes     0\n",
       "link      0\n",
       "dtype: int64"
      ]
     },
     "execution_count": 8,
     "metadata": {},
     "output_type": "execute_result"
    }
   ],
   "source": [
    "df.isnull().sum()"
   ]
  },
  {
   "cell_type": "code",
   "execution_count": 9,
   "id": "4f3c98f3",
   "metadata": {},
   "outputs": [],
   "source": [
    "df.dropna(inplace = True)"
   ]
  },
  {
   "cell_type": "code",
   "execution_count": 10,
   "id": "159f79a1",
   "metadata": {},
   "outputs": [
    {
     "data": {
      "text/plain": [
       "5439"
      ]
     },
     "execution_count": 10,
     "metadata": {},
     "output_type": "execute_result"
    }
   ],
   "source": [
    "df.title.nunique()"
   ]
  },
  {
   "cell_type": "markdown",
   "id": "77108d17",
   "metadata": {},
   "source": [
    "## MOST POPULAR TED TALKS"
   ]
  },
  {
   "cell_type": "code",
   "execution_count": 14,
   "id": "bda65272",
   "metadata": {},
   "outputs": [
    {
     "data": {
      "text/html": [
       "<div>\n",
       "<style scoped>\n",
       "    .dataframe tbody tr th:only-of-type {\n",
       "        vertical-align: middle;\n",
       "    }\n",
       "\n",
       "    .dataframe tbody tr th {\n",
       "        vertical-align: top;\n",
       "    }\n",
       "\n",
       "    .dataframe thead th {\n",
       "        text-align: right;\n",
       "    }\n",
       "</style>\n",
       "<table border=\"1\" class=\"dataframe\">\n",
       "  <thead>\n",
       "    <tr style=\"text-align: right;\">\n",
       "      <th></th>\n",
       "      <th>title</th>\n",
       "      <th>author</th>\n",
       "      <th>date</th>\n",
       "      <th>views</th>\n",
       "      <th>likes</th>\n",
       "      <th>link</th>\n",
       "    </tr>\n",
       "  </thead>\n",
       "  <tbody>\n",
       "    <tr>\n",
       "      <th>5436</th>\n",
       "      <td>Do schools kill creativity?</td>\n",
       "      <td>Sir Ken Robinson</td>\n",
       "      <td>February 2006</td>\n",
       "      <td>72000000</td>\n",
       "      <td>2100000</td>\n",
       "      <td>https://ted.com/talks/sir_ken_robinson_do_scho...</td>\n",
       "    </tr>\n",
       "    <tr>\n",
       "      <th>4084</th>\n",
       "      <td>Your body language may shape who you are</td>\n",
       "      <td>Amy Cuddy</td>\n",
       "      <td>June 2012</td>\n",
       "      <td>64000000</td>\n",
       "      <td>1900000</td>\n",
       "      <td>https://ted.com/talks/amy_cuddy_your_body_lang...</td>\n",
       "    </tr>\n",
       "    <tr>\n",
       "      <th>2958</th>\n",
       "      <td>Inside the mind of a master procrastinator</td>\n",
       "      <td>Tim Urban</td>\n",
       "      <td>February 2016</td>\n",
       "      <td>60000000</td>\n",
       "      <td>1800000</td>\n",
       "      <td>https://ted.com/talks/tim_urban_inside_the_min...</td>\n",
       "    </tr>\n",
       "    <tr>\n",
       "      <th>4765</th>\n",
       "      <td>How great leaders inspire action</td>\n",
       "      <td>Simon Sinek</td>\n",
       "      <td>September 2009</td>\n",
       "      <td>57000000</td>\n",
       "      <td>1700000</td>\n",
       "      <td>https://ted.com/talks/simon_sinek_how_great_le...</td>\n",
       "    </tr>\n",
       "    <tr>\n",
       "      <th>4605</th>\n",
       "      <td>The power of vulnerability</td>\n",
       "      <td>Brené Brown</td>\n",
       "      <td>June 2010</td>\n",
       "      <td>56000000</td>\n",
       "      <td>1700000</td>\n",
       "      <td>https://ted.com/talks/brene_brown_the_power_of...</td>\n",
       "    </tr>\n",
       "  </tbody>\n",
       "</table>\n",
       "</div>"
      ],
      "text/plain": [
       "                                           title            author  \\\n",
       "5436                 Do schools kill creativity?  Sir Ken Robinson   \n",
       "4084    Your body language may shape who you are         Amy Cuddy   \n",
       "2958  Inside the mind of a master procrastinator         Tim Urban   \n",
       "4765            How great leaders inspire action       Simon Sinek   \n",
       "4605                  The power of vulnerability       Brené Brown   \n",
       "\n",
       "                date     views    likes  \\\n",
       "5436   February 2006  72000000  2100000   \n",
       "4084       June 2012  64000000  1900000   \n",
       "2958   February 2016  60000000  1800000   \n",
       "4765  September 2009  57000000  1700000   \n",
       "4605       June 2010  56000000  1700000   \n",
       "\n",
       "                                                   link  \n",
       "5436  https://ted.com/talks/sir_ken_robinson_do_scho...  \n",
       "4084  https://ted.com/talks/amy_cuddy_your_body_lang...  \n",
       "2958  https://ted.com/talks/tim_urban_inside_the_min...  \n",
       "4765  https://ted.com/talks/simon_sinek_how_great_le...  \n",
       "4605  https://ted.com/talks/brene_brown_the_power_of...  "
      ]
     },
     "execution_count": 14,
     "metadata": {},
     "output_type": "execute_result"
    }
   ],
   "source": [
    "popular_ted = df.sort_values(by = 'views', ascending = False)\n",
    "popular_ted.head(5)"
   ]
  },
  {
   "cell_type": "markdown",
   "id": "eb0e9e3b",
   "metadata": {},
   "source": [
    "### BY SORTING THE DATA FRAME BY VIEWS OF THE TOPICS, WE CAN SEE IN THE ABOVE TABLE , topic that \" Do schools kill creativity ?\" is have high view rate "
   ]
  },
  {
   "cell_type": "code",
   "execution_count": null,
   "id": "52318f2e",
   "metadata": {},
   "outputs": [],
   "source": []
  },
  {
   "cell_type": "markdown",
   "id": "db13abdf",
   "metadata": {},
   "source": [
    "## Finding the most popular ted talks speakers  in terms of number of talks"
   ]
  },
  {
   "cell_type": "code",
   "execution_count": 44,
   "id": "d72fea59",
   "metadata": {},
   "outputs": [
    {
     "name": "stdout",
     "output_type": "stream",
     "text": [
      "                author  talks_count\n",
      "148       Alex Gendler           45\n",
      "1781  Iseult Gillespie           33\n",
      "2845       Matt Walker           18\n",
      "152     Alex Rosenthal           15\n",
      "1283     Elizabeth Cox           13\n",
      "1338        Emma Bryce           12\n",
      "962      Daniel Finkel           11\n",
      "2216     Juan Enriquez           11\n",
      "933         Dan Finkel            9\n",
      "1655      Hans Rosling            9\n"
     ]
    }
   ],
   "source": [
    "\n",
    "speaker_popularity = df.groupby('author').size().reset_index(name='talks_count')\n",
    "\n",
    "most_prolific_speakers = speaker_popularity.sort_values(by='talks_count', ascending=False)\n",
    "\n",
    "# Print the top 10 most prolific speakers\n",
    "print(most_prolific_speakers.head(10))\n"
   ]
  },
  {
   "cell_type": "markdown",
   "id": "f2d9f315",
   "metadata": {},
   "source": [
    "## month-wise analysis "
   ]
  },
  {
   "cell_type": "markdown",
   "id": "2c7547ec",
   "metadata": {},
   "source": [
    "### create a new features"
   ]
  },
  {
   "cell_type": "code",
   "execution_count": 16,
   "id": "02f528dc",
   "metadata": {},
   "outputs": [],
   "source": [
    "date = list(df.date)\n",
    "\n",
    "month = []\n",
    "year = []\n",
    "\n",
    "for i in date:\n",
    "    lst = i.split(\" \")\n",
    "    month.append(lst[0])\n",
    "    year.append(lst[1])\n",
    "df['month'] = month\n",
    "df['year']  = year"
   ]
  },
  {
   "cell_type": "code",
   "execution_count": 17,
   "id": "3592348a",
   "metadata": {},
   "outputs": [
    {
     "data": {
      "text/html": [
       "<div>\n",
       "<style scoped>\n",
       "    .dataframe tbody tr th:only-of-type {\n",
       "        vertical-align: middle;\n",
       "    }\n",
       "\n",
       "    .dataframe tbody tr th {\n",
       "        vertical-align: top;\n",
       "    }\n",
       "\n",
       "    .dataframe thead th {\n",
       "        text-align: right;\n",
       "    }\n",
       "</style>\n",
       "<table border=\"1\" class=\"dataframe\">\n",
       "  <thead>\n",
       "    <tr style=\"text-align: right;\">\n",
       "      <th></th>\n",
       "      <th>title</th>\n",
       "      <th>author</th>\n",
       "      <th>date</th>\n",
       "      <th>views</th>\n",
       "      <th>likes</th>\n",
       "      <th>link</th>\n",
       "      <th>month</th>\n",
       "      <th>year</th>\n",
       "    </tr>\n",
       "  </thead>\n",
       "  <tbody>\n",
       "    <tr>\n",
       "      <th>0</th>\n",
       "      <td>Climate action needs new frontline leadership</td>\n",
       "      <td>Ozawa Bineshi Albert</td>\n",
       "      <td>December 2021</td>\n",
       "      <td>404000</td>\n",
       "      <td>12000</td>\n",
       "      <td>https://ted.com/talks/ozawa_bineshi_albert_cli...</td>\n",
       "      <td>December</td>\n",
       "      <td>2021</td>\n",
       "    </tr>\n",
       "    <tr>\n",
       "      <th>1</th>\n",
       "      <td>The dark history of the overthrow of Hawaii</td>\n",
       "      <td>Sydney Iaukea</td>\n",
       "      <td>February 2022</td>\n",
       "      <td>214000</td>\n",
       "      <td>6400</td>\n",
       "      <td>https://ted.com/talks/sydney_iaukea_the_dark_h...</td>\n",
       "      <td>February</td>\n",
       "      <td>2022</td>\n",
       "    </tr>\n",
       "    <tr>\n",
       "      <th>2</th>\n",
       "      <td>How play can spark new ideas for your business</td>\n",
       "      <td>Martin Reeves</td>\n",
       "      <td>September 2021</td>\n",
       "      <td>412000</td>\n",
       "      <td>12000</td>\n",
       "      <td>https://ted.com/talks/martin_reeves_how_play_c...</td>\n",
       "      <td>September</td>\n",
       "      <td>2021</td>\n",
       "    </tr>\n",
       "    <tr>\n",
       "      <th>3</th>\n",
       "      <td>Why is China appointing judges to combat clima...</td>\n",
       "      <td>James K. Thornton</td>\n",
       "      <td>October 2021</td>\n",
       "      <td>427000</td>\n",
       "      <td>12000</td>\n",
       "      <td>https://ted.com/talks/james_k_thornton_why_is_...</td>\n",
       "      <td>October</td>\n",
       "      <td>2021</td>\n",
       "    </tr>\n",
       "    <tr>\n",
       "      <th>4</th>\n",
       "      <td>Cement's carbon problem — and 2 ways to fix it</td>\n",
       "      <td>Mahendra Singhi</td>\n",
       "      <td>October 2021</td>\n",
       "      <td>2400</td>\n",
       "      <td>72</td>\n",
       "      <td>https://ted.com/talks/mahendra_singhi_cement_s...</td>\n",
       "      <td>October</td>\n",
       "      <td>2021</td>\n",
       "    </tr>\n",
       "  </tbody>\n",
       "</table>\n",
       "</div>"
      ],
      "text/plain": [
       "                                               title                author  \\\n",
       "0      Climate action needs new frontline leadership  Ozawa Bineshi Albert   \n",
       "1        The dark history of the overthrow of Hawaii         Sydney Iaukea   \n",
       "2     How play can spark new ideas for your business         Martin Reeves   \n",
       "3  Why is China appointing judges to combat clima...     James K. Thornton   \n",
       "4     Cement's carbon problem — and 2 ways to fix it       Mahendra Singhi   \n",
       "\n",
       "             date   views  likes  \\\n",
       "0   December 2021  404000  12000   \n",
       "1   February 2022  214000   6400   \n",
       "2  September 2021  412000  12000   \n",
       "3    October 2021  427000  12000   \n",
       "4    October 2021    2400     72   \n",
       "\n",
       "                                                link      month  year  \n",
       "0  https://ted.com/talks/ozawa_bineshi_albert_cli...   December  2021  \n",
       "1  https://ted.com/talks/sydney_iaukea_the_dark_h...   February  2022  \n",
       "2  https://ted.com/talks/martin_reeves_how_play_c...  September  2021  \n",
       "3  https://ted.com/talks/james_k_thornton_why_is_...    October  2021  \n",
       "4  https://ted.com/talks/mahendra_singhi_cement_s...    October  2021  "
      ]
     },
     "execution_count": 17,
     "metadata": {},
     "output_type": "execute_result"
    }
   ],
   "source": [
    "df.head()"
   ]
  },
  {
   "cell_type": "code",
   "execution_count": 18,
   "id": "c0f8f1ea",
   "metadata": {},
   "outputs": [
    {
     "data": {
      "text/plain": [
       "12"
      ]
     },
     "execution_count": 18,
     "metadata": {},
     "output_type": "execute_result"
    }
   ],
   "source": [
    "df.month.nunique()"
   ]
  },
  {
   "cell_type": "code",
   "execution_count": 19,
   "id": "f2d52ba8",
   "metadata": {},
   "outputs": [
    {
     "data": {
      "text/plain": [
       "array(['2021', '2022', '2019', '2016', '2017', '2020', '2015', '2014',\n",
       "       '2018', '1970', '2012', '2013', '2009', '2010', '2011', '1994',\n",
       "       '2005', '2007', '2006', '1972', '2008', '2001', '1983', '1991',\n",
       "       '2004', '2003', '2002', '1998', '1990', '1984'], dtype=object)"
      ]
     },
     "execution_count": 19,
     "metadata": {},
     "output_type": "execute_result"
    }
   ],
   "source": [
    "df.year.unique()"
   ]
  },
  {
   "cell_type": "markdown",
   "id": "7bc13f54",
   "metadata": {},
   "source": [
    "## CALCULATE THE VIEWS AND LIKES OF EACH MONTH"
   ]
  },
  {
   "cell_type": "code",
   "execution_count": 25,
   "id": "a77a8c87",
   "metadata": {},
   "outputs": [],
   "source": [
    "month_wise = {}\n",
    "\n",
    "month = df.month.values\n",
    "for mon in month:\n",
    "    views = df[df['month'] == mon]['views'].sum()\n",
    "    likes = df[df['month'] == mon]['likes'].sum()\n",
    "    \n",
    "    month_wise[mon] = {'views' : views, 'likes' : likes }"
   ]
  },
  {
   "cell_type": "code",
   "execution_count": 41,
   "id": "93cd7d39",
   "metadata": {},
   "outputs": [
    {
     "data": {
      "text/html": [
       "<div>\n",
       "<style scoped>\n",
       "    .dataframe tbody tr th:only-of-type {\n",
       "        vertical-align: middle;\n",
       "    }\n",
       "\n",
       "    .dataframe tbody tr th {\n",
       "        vertical-align: top;\n",
       "    }\n",
       "\n",
       "    .dataframe thead th {\n",
       "        text-align: right;\n",
       "    }\n",
       "</style>\n",
       "<table border=\"1\" class=\"dataframe\">\n",
       "  <thead>\n",
       "    <tr style=\"text-align: right;\">\n",
       "      <th></th>\n",
       "      <th>views</th>\n",
       "      <th>likes</th>\n",
       "    </tr>\n",
       "  </thead>\n",
       "  <tbody>\n",
       "    <tr>\n",
       "      <th>August</th>\n",
       "      <td>295820997</td>\n",
       "      <td>9008649</td>\n",
       "    </tr>\n",
       "    <tr>\n",
       "      <th>January</th>\n",
       "      <td>302850399</td>\n",
       "      <td>9196042</td>\n",
       "    </tr>\n",
       "    <tr>\n",
       "      <th>December</th>\n",
       "      <td>602291300</td>\n",
       "      <td>18319397</td>\n",
       "    </tr>\n",
       "    <tr>\n",
       "      <th>September</th>\n",
       "      <td>606392100</td>\n",
       "      <td>18433456</td>\n",
       "    </tr>\n",
       "    <tr>\n",
       "      <th>May</th>\n",
       "      <td>658259600</td>\n",
       "      <td>19961849</td>\n",
       "    </tr>\n",
       "    <tr>\n",
       "      <th>July</th>\n",
       "      <td>864732799</td>\n",
       "      <td>26254756</td>\n",
       "    </tr>\n",
       "    <tr>\n",
       "      <th>October</th>\n",
       "      <td>965331498</td>\n",
       "      <td>29302963</td>\n",
       "    </tr>\n",
       "    <tr>\n",
       "      <th>June</th>\n",
       "      <td>1164034699</td>\n",
       "      <td>35242674</td>\n",
       "    </tr>\n",
       "    <tr>\n",
       "      <th>November</th>\n",
       "      <td>1180802199</td>\n",
       "      <td>35867373</td>\n",
       "    </tr>\n",
       "    <tr>\n",
       "      <th>April</th>\n",
       "      <td>1214604196</td>\n",
       "      <td>36985230</td>\n",
       "    </tr>\n",
       "    <tr>\n",
       "      <th>March</th>\n",
       "      <td>1375276896</td>\n",
       "      <td>41836175</td>\n",
       "    </tr>\n",
       "    <tr>\n",
       "      <th>February</th>\n",
       "      <td>1984575996</td>\n",
       "      <td>60176856</td>\n",
       "    </tr>\n",
       "  </tbody>\n",
       "</table>\n",
       "</div>"
      ],
      "text/plain": [
       "                views     likes\n",
       "August      295820997   9008649\n",
       "January     302850399   9196042\n",
       "December    602291300  18319397\n",
       "September   606392100  18433456\n",
       "May         658259600  19961849\n",
       "July        864732799  26254756\n",
       "October     965331498  29302963\n",
       "June       1164034699  35242674\n",
       "November   1180802199  35867373\n",
       "April      1214604196  36985230\n",
       "March      1375276896  41836175\n",
       "February   1984575996  60176856"
      ]
     },
     "execution_count": 41,
     "metadata": {},
     "output_type": "execute_result"
    }
   ],
   "source": [
    "month_df = pd.DataFrame(month_wise)\n",
    "month_df = month_df.T.sort_values(by = 'views')\n",
    "month_df"
   ]
  },
  {
   "cell_type": "code",
   "execution_count": 123,
   "id": "23111754",
   "metadata": {},
   "outputs": [
    {
     "data": {
      "image/png": "[encoded data removed]",
      "text/plain": [
       "<Figure size 720x432 with 1 Axes>"
      ]
     },
     "metadata": {
      "needs_background": "light"
     },
     "output_type": "display_data"
    }
   ],
   "source": [
    "months = list(month_df.index)\n",
    "views = [month_wise[mon]['views'] for mon in months]\n",
    "likes = [month_wise[mon]['likes'] for mon in months]\n",
    "\n",
    "# Create a bar plot for views\n",
    "plt.figure(figsize=(10, 6))\n",
    "plt.bar(months, views, label='Views', color='skyblue')\n",
    "plt.bar(months, likes, label='likes',width = 0.5,color='green')\n",
    "plt.xlabel('Month')\n",
    "plt.ylabel('Total Views')\n",
    "plt.title('Monthly Total Views of TED Talks')\n",
    "plt.legend()\n",
    "plt.xticks(rotation=45)\n",
    "plt.tight_layout()\n",
    "\n",
    "\n",
    "plt.show()\n"
   ]
  },
  {
   "cell_type": "code",
   "execution_count": 124,
   "id": "f26b9390",
   "metadata": {},
   "outputs": [
    {
     "data": {
      "image/png": "[encoded data removed]",
      "text/plain": [
       "<Figure size 720x432 with 1 Axes>"
      ]
     },
     "metadata": {
      "needs_background": "light"
     },
     "output_type": "display_data"
    }
   ],
   "source": [
    "months = list(month_df.index)\n",
    "views = [month_wise[mon]['views'] for mon in months]\n",
    "likes = [month_wise[mon]['likes'] for mon in months]\n",
    "\n",
    "# Create a bar plot for likes\n",
    "plt.figure(figsize=(10, 6))\n",
    "plt.bar(months, likes, label='Views', color='green')\n",
    "plt.xlabel('Month')\n",
    "plt.ylabel('Total likes')\n",
    "plt.title('Monthly Total likes of TED Talks')\n",
    "plt.legend()\n",
    "plt.xticks(rotation=45)\n",
    "plt.tight_layout()\n",
    "\n",
    "\n",
    "plt.show()\n"
   ]
  },
  {
   "cell_type": "code",
   "execution_count": null,
   "id": "45ae8f9f",
   "metadata": {},
   "outputs": [],
   "source": []
  },
  {
   "cell_type": "markdown",
   "id": "3298a0b9",
   "metadata": {},
   "source": [
    "## Year wise analysis"
   ]
  },
  {
   "cell_type": "code",
   "execution_count": 60,
   "id": "95ce5075",
   "metadata": {},
   "outputs": [
    {
     "name": "stdout",
     "output_type": "stream",
     "text": [
      "    year  talks_count\n",
      "26  2019          544\n",
      "27  2020          501\n",
      "24  2017          495\n",
      "25  2018          473\n",
      "23  2016          399\n",
      "28  2021          390\n",
      "20  2013          388\n",
      "22  2015          376\n",
      "21  2014          357\n",
      "19  2012          302\n"
     ]
    }
   ],
   "source": [
    "\n",
    "year_count = df.groupby('year').size().reset_index(name='talks_count')\n",
    "\n",
    "year_count = year_count.sort_values(by='talks_count', ascending=False)\n",
    "\n",
    "\n",
    "print(year_count.head(10))\n"
   ]
  },
  {
   "cell_type": "code",
   "execution_count": 61,
   "id": "42cd7e70",
   "metadata": {},
   "outputs": [],
   "source": [
    "year_wise = {}\n",
    "\n",
    "years = df.year.values\n",
    "for year in years:\n",
    "    views = df[df['year'] ==  year]['views'].sum()\n",
    "    likes = df[df['year'] ==  year]['likes'].sum()\n",
    "    \n",
    "    year_wise[str(year)] = {'views' : views, 'likes' : likes }"
   ]
  },
  {
   "cell_type": "code",
   "execution_count": 62,
   "id": "9c305382",
   "metadata": {},
   "outputs": [
    {
     "data": {
      "text/html": [
       "<div>\n",
       "<style scoped>\n",
       "    .dataframe tbody tr th:only-of-type {\n",
       "        vertical-align: middle;\n",
       "    }\n",
       "\n",
       "    .dataframe tbody tr th {\n",
       "        vertical-align: top;\n",
       "    }\n",
       "\n",
       "    .dataframe thead th {\n",
       "        text-align: right;\n",
       "    }\n",
       "</style>\n",
       "<table border=\"1\" class=\"dataframe\">\n",
       "  <thead>\n",
       "    <tr style=\"text-align: right;\">\n",
       "      <th></th>\n",
       "      <th>views</th>\n",
       "      <th>likes</th>\n",
       "    </tr>\n",
       "  </thead>\n",
       "  <tbody>\n",
       "    <tr>\n",
       "      <th>2015</th>\n",
       "      <td>1154739598</td>\n",
       "      <td>35151746</td>\n",
       "    </tr>\n",
       "    <tr>\n",
       "      <th>2013</th>\n",
       "      <td>1062537497</td>\n",
       "      <td>32249916</td>\n",
       "    </tr>\n",
       "    <tr>\n",
       "      <th>2017</th>\n",
       "      <td>998891600</td>\n",
       "      <td>30516328</td>\n",
       "    </tr>\n",
       "    <tr>\n",
       "      <th>2019</th>\n",
       "      <td>948119299</td>\n",
       "      <td>28764575</td>\n",
       "    </tr>\n",
       "    <tr>\n",
       "      <th>2016</th>\n",
       "      <td>928894896</td>\n",
       "      <td>28306782</td>\n",
       "    </tr>\n",
       "    <tr>\n",
       "      <th>2014</th>\n",
       "      <td>824652297</td>\n",
       "      <td>25076665</td>\n",
       "    </tr>\n",
       "    <tr>\n",
       "      <th>2018</th>\n",
       "      <td>811857597</td>\n",
       "      <td>24671493</td>\n",
       "    </tr>\n",
       "    <tr>\n",
       "      <th>2012</th>\n",
       "      <td>803186000</td>\n",
       "      <td>24331209</td>\n",
       "    </tr>\n",
       "    <tr>\n",
       "      <th>2020</th>\n",
       "      <td>635944200</td>\n",
       "      <td>19297014</td>\n",
       "    </tr>\n",
       "    <tr>\n",
       "      <th>2011</th>\n",
       "      <td>575677999</td>\n",
       "      <td>17478900</td>\n",
       "    </tr>\n",
       "    <tr>\n",
       "      <th>2009</th>\n",
       "      <td>557635000</td>\n",
       "      <td>16841500</td>\n",
       "    </tr>\n",
       "    <tr>\n",
       "      <th>2010</th>\n",
       "      <td>528145999</td>\n",
       "      <td>15962900</td>\n",
       "    </tr>\n",
       "    <tr>\n",
       "      <th>2021</th>\n",
       "      <td>429728700</td>\n",
       "      <td>13058238</td>\n",
       "    </tr>\n",
       "    <tr>\n",
       "      <th>2008</th>\n",
       "      <td>208007999</td>\n",
       "      <td>6312400</td>\n",
       "    </tr>\n",
       "    <tr>\n",
       "      <th>2006</th>\n",
       "      <td>181109999</td>\n",
       "      <td>5401400</td>\n",
       "    </tr>\n",
       "    <tr>\n",
       "      <th>2007</th>\n",
       "      <td>176651000</td>\n",
       "      <td>5332100</td>\n",
       "    </tr>\n",
       "    <tr>\n",
       "      <th>2005</th>\n",
       "      <td>157477999</td>\n",
       "      <td>4805000</td>\n",
       "    </tr>\n",
       "    <tr>\n",
       "      <th>2004</th>\n",
       "      <td>112378000</td>\n",
       "      <td>3436400</td>\n",
       "    </tr>\n",
       "    <tr>\n",
       "      <th>2003</th>\n",
       "      <td>54394000</td>\n",
       "      <td>1640400</td>\n",
       "    </tr>\n",
       "    <tr>\n",
       "      <th>2002</th>\n",
       "      <td>30442000</td>\n",
       "      <td>915700</td>\n",
       "    </tr>\n",
       "    <tr>\n",
       "      <th>2022</th>\n",
       "      <td>11470000</td>\n",
       "      <td>341254</td>\n",
       "    </tr>\n",
       "    <tr>\n",
       "      <th>2001</th>\n",
       "      <td>10530000</td>\n",
       "      <td>315100</td>\n",
       "    </tr>\n",
       "    <tr>\n",
       "      <th>1998</th>\n",
       "      <td>7410000</td>\n",
       "      <td>226100</td>\n",
       "    </tr>\n",
       "    <tr>\n",
       "      <th>1972</th>\n",
       "      <td>1300000</td>\n",
       "      <td>41000</td>\n",
       "    </tr>\n",
       "    <tr>\n",
       "      <th>1984</th>\n",
       "      <td>1100000</td>\n",
       "      <td>33000</td>\n",
       "    </tr>\n",
       "    <tr>\n",
       "      <th>1990</th>\n",
       "      <td>723000</td>\n",
       "      <td>21000</td>\n",
       "    </tr>\n",
       "    <tr>\n",
       "      <th>1994</th>\n",
       "      <td>699000</td>\n",
       "      <td>20000</td>\n",
       "    </tr>\n",
       "    <tr>\n",
       "      <th>1983</th>\n",
       "      <td>690000</td>\n",
       "      <td>20000</td>\n",
       "    </tr>\n",
       "    <tr>\n",
       "      <th>1991</th>\n",
       "      <td>327000</td>\n",
       "      <td>9800</td>\n",
       "    </tr>\n",
       "    <tr>\n",
       "      <th>1970</th>\n",
       "      <td>252000</td>\n",
       "      <td>7500</td>\n",
       "    </tr>\n",
       "  </tbody>\n",
       "</table>\n",
       "</div>"
      ],
      "text/plain": [
       "           views     likes\n",
       "2015  1154739598  35151746\n",
       "2013  1062537497  32249916\n",
       "2017   998891600  30516328\n",
       "2019   948119299  28764575\n",
       "2016   928894896  28306782\n",
       "2014   824652297  25076665\n",
       "2018   811857597  24671493\n",
       "2012   803186000  24331209\n",
       "2020   635944200  19297014\n",
       "2011   575677999  17478900\n",
       "2009   557635000  16841500\n",
       "2010   528145999  15962900\n",
       "2021   429728700  13058238\n",
       "2008   208007999   6312400\n",
       "2006   181109999   5401400\n",
       "2007   176651000   5332100\n",
       "2005   157477999   4805000\n",
       "2004   112378000   3436400\n",
       "2003    54394000   1640400\n",
       "2002    30442000    915700\n",
       "2022    11470000    341254\n",
       "2001    10530000    315100\n",
       "1998     7410000    226100\n",
       "1972     1300000     41000\n",
       "1984     1100000     33000\n",
       "1990      723000     21000\n",
       "1994      699000     20000\n",
       "1983      690000     20000\n",
       "1991      327000      9800\n",
       "1970      252000      7500"
      ]
     },
     "execution_count": 62,
     "metadata": {},
     "output_type": "execute_result"
    }
   ],
   "source": [
    "year_df = pd.DataFrame(year_wise)\n",
    "year_df = year_df.T.sort_values(by = 'views', ascending = False)\n",
    "year_df"
   ]
  },
  {
   "cell_type": "code",
   "execution_count": 125,
   "id": "9d2cd191",
   "metadata": {},
   "outputs": [
    {
     "data": {
      "image/png": "[encoded data removed]",
      "text/plain": [
       "<Figure size 720x432 with 1 Axes>"
      ]
     },
     "metadata": {
      "needs_background": "light"
     },
     "output_type": "display_data"
    }
   ],
   "source": [
    "months = list(year_df.index)\n",
    "views = [year_wise[mon]['views'] for mon in months]\n",
    "likes = [year_wise[mon]['likes'] for mon in months]\n",
    "\n",
    "# Create a bar plot for views\n",
    "plt.figure(figsize=(10, 6))\n",
    "plt.bar(months, views, label='Views', color='skyblue')\n",
    "plt.bar(months, likes, label='likes',width = 0.5,color='green')\n",
    "plt.xlabel('Month')\n",
    "plt.ylabel('Total Views')\n",
    "plt.title('Monthly Total Views of TED Talks')\n",
    "plt.legend()\n",
    "plt.xticks(rotation=45)\n",
    "plt.tight_layout()\n",
    "\n",
    "\n",
    "plt.show()\n"
   ]
  },
  {
   "cell_type": "markdown",
   "id": "94eb2cca",
   "metadata": {},
   "source": [
    "## TED talks of my fovorite author "
   ]
  },
  {
   "cell_type": "code",
   "execution_count": 66,
   "id": "cc0892ba",
   "metadata": {},
   "outputs": [
    {
     "name": "stdout",
     "output_type": "stream",
     "text": [
      "Why do cats have vertical pupils?\n",
      "What is HPV and how can you protect yourself from it?\n",
      "How does the immune system work?\n",
      "The power of the placebo effect\n",
      "How do your hormones work?\n",
      "Why do we itch?\n",
      "How to use a semicolon\n",
      "What is a calorie?\n",
      "What really happens to the plastic you throw away?\n",
      "How does the thyroid manage your metabolism?\n",
      "The case of the vanishing honeybees\n",
      "Should we eat bugs?\n"
     ]
    }
   ],
   "source": [
    "fav_author = 'Emma Bryce'\n",
    "fav_df = df[df['author'] == fav_author]\n",
    "\n",
    "topics = fav_df.title\n",
    "for i in topics:\n",
    "    print(i)"
   ]
  },
  {
   "cell_type": "markdown",
   "id": "3ca40591",
   "metadata": {},
   "source": [
    "## Finding the ted talks with best views to likes ratio"
   ]
  },
  {
   "cell_type": "code",
   "execution_count": 68,
   "id": "e051f102",
   "metadata": {},
   "outputs": [
    {
     "data": {
      "text/html": [
       "<div>\n",
       "<style scoped>\n",
       "    .dataframe tbody tr th:only-of-type {\n",
       "        vertical-align: middle;\n",
       "    }\n",
       "\n",
       "    .dataframe tbody tr th {\n",
       "        vertical-align: top;\n",
       "    }\n",
       "\n",
       "    .dataframe thead th {\n",
       "        text-align: right;\n",
       "    }\n",
       "</style>\n",
       "<table border=\"1\" class=\"dataframe\">\n",
       "  <thead>\n",
       "    <tr style=\"text-align: right;\">\n",
       "      <th></th>\n",
       "      <th>title</th>\n",
       "      <th>author</th>\n",
       "      <th>views</th>\n",
       "      <th>likes</th>\n",
       "      <th>views_to_likes_ratio</th>\n",
       "    </tr>\n",
       "  </thead>\n",
       "  <tbody>\n",
       "    <tr>\n",
       "      <th>955</th>\n",
       "      <td>A camera that can see around corners</td>\n",
       "      <td>David Lindell</td>\n",
       "      <td>364000</td>\n",
       "      <td>10000</td>\n",
       "      <td>36.400000</td>\n",
       "    </tr>\n",
       "    <tr>\n",
       "      <th>905</th>\n",
       "      <td>What's the point(e) of ballet?</td>\n",
       "      <td>Ming Luke</td>\n",
       "      <td>364000</td>\n",
       "      <td>10000</td>\n",
       "      <td>36.400000</td>\n",
       "    </tr>\n",
       "    <tr>\n",
       "      <th>837</th>\n",
       "      <td>How to see more and care less: The art of Geor...</td>\n",
       "      <td>Iseult Gillespie</td>\n",
       "      <td>364000</td>\n",
       "      <td>10000</td>\n",
       "      <td>36.400000</td>\n",
       "    </tr>\n",
       "    <tr>\n",
       "      <th>26</th>\n",
       "      <td>Can you outsmart the fallacy that divided a na...</td>\n",
       "      <td>Elizabeth Cox</td>\n",
       "      <td>363000</td>\n",
       "      <td>10000</td>\n",
       "      <td>36.300000</td>\n",
       "    </tr>\n",
       "    <tr>\n",
       "      <th>1016</th>\n",
       "      <td>The function and fashion of eyeglasses</td>\n",
       "      <td>Debbie Millman</td>\n",
       "      <td>363000</td>\n",
       "      <td>10000</td>\n",
       "      <td>36.300000</td>\n",
       "    </tr>\n",
       "    <tr>\n",
       "      <th>3089</th>\n",
       "      <td>How computers translate human language</td>\n",
       "      <td>Ioannis Papachimonas</td>\n",
       "      <td>398000</td>\n",
       "      <td>11000</td>\n",
       "      <td>36.181818</td>\n",
       "    </tr>\n",
       "    <tr>\n",
       "      <th>4389</th>\n",
       "      <td>The right to understand</td>\n",
       "      <td>Sandra Fisher-Martins</td>\n",
       "      <td>361000</td>\n",
       "      <td>10000</td>\n",
       "      <td>36.100000</td>\n",
       "    </tr>\n",
       "    <tr>\n",
       "      <th>4362</th>\n",
       "      <td>How to topple a dictator</td>\n",
       "      <td>Srdja Popovic</td>\n",
       "      <td>397000</td>\n",
       "      <td>11000</td>\n",
       "      <td>36.090909</td>\n",
       "    </tr>\n",
       "    <tr>\n",
       "      <th>5129</th>\n",
       "      <td>On glamour</td>\n",
       "      <td>Virginia Postrel</td>\n",
       "      <td>433000</td>\n",
       "      <td>12000</td>\n",
       "      <td>36.083333</td>\n",
       "    </tr>\n",
       "    <tr>\n",
       "      <th>1125</th>\n",
       "      <td>Hacking bacteria to fight cancer</td>\n",
       "      <td>Tal Danino</td>\n",
       "      <td>396000</td>\n",
       "      <td>11000</td>\n",
       "      <td>36.000000</td>\n",
       "    </tr>\n",
       "  </tbody>\n",
       "</table>\n",
       "</div>"
      ],
      "text/plain": [
       "                                                  title  \\\n",
       "955                A camera that can see around corners   \n",
       "905                      What's the point(e) of ballet?   \n",
       "837   How to see more and care less: The art of Geor...   \n",
       "26    Can you outsmart the fallacy that divided a na...   \n",
       "1016             The function and fashion of eyeglasses   \n",
       "3089             How computers translate human language   \n",
       "4389                            The right to understand   \n",
       "4362                           How to topple a dictator   \n",
       "5129                                         On glamour   \n",
       "1125                   Hacking bacteria to fight cancer   \n",
       "\n",
       "                     author   views  likes  views_to_likes_ratio  \n",
       "955           David Lindell  364000  10000             36.400000  \n",
       "905               Ming Luke  364000  10000             36.400000  \n",
       "837        Iseult Gillespie  364000  10000             36.400000  \n",
       "26            Elizabeth Cox  363000  10000             36.300000  \n",
       "1016         Debbie Millman  363000  10000             36.300000  \n",
       "3089   Ioannis Papachimonas  398000  11000             36.181818  \n",
       "4389  Sandra Fisher-Martins  361000  10000             36.100000  \n",
       "4362          Srdja Popovic  397000  11000             36.090909  \n",
       "5129       Virginia Postrel  433000  12000             36.083333  \n",
       "1125             Tal Danino  396000  11000             36.000000  "
      ]
     },
     "execution_count": 68,
     "metadata": {},
     "output_type": "execute_result"
    }
   ],
   "source": [
    "df['views_to_likes_ratio'] = df['views'] / df['likes']\n",
    "\n",
    "best_ratio_talks = df.sort_values(by='views_to_likes_ratio', ascending=False)\n",
    "\n",
    "# Print the top 10 talks with the best views-to-likes ratio\n",
    "best_ratio_talks[['title', 'author', 'views', 'likes', 'views_to_likes_ratio']].head(10)\n"
   ]
  },
  {
   "cell_type": "code",
   "execution_count": null,
   "id": "c68307a9",
   "metadata": {},
   "outputs": [],
   "source": []
  },
  {
   "cell_type": "markdown",
   "id": "a194434a",
   "metadata": {},
   "source": [
    "## Finding ted talks based on the tags"
   ]
  },
  {
   "cell_type": "code",
   "execution_count": 96,
   "id": "6d4b971a",
   "metadata": {},
   "outputs": [
    {
     "name": "stdout",
     "output_type": "stream",
     "text": [
      "Education is a fundamental right for every child\n",
      "Education innovation in the slums\n"
     ]
    }
   ],
   "source": [
    "tag1 = 'Climate'\n",
    "\n",
    "topics = df[df['title'].str.contains(tag1)]['title']\n",
    "for i in topics:\n",
    "    print(i)"
   ]
  },
  {
   "cell_type": "code",
   "execution_count": 98,
   "id": "358034d2",
   "metadata": {},
   "outputs": [
    {
     "name": "stdout",
     "output_type": "stream",
     "text": [
      "Sex education should start with consent\n",
      "3 ways to lower the barriers to higher education\n",
      "What COVID-19 revealed about US schools — and 4 ways to rethink education\n",
      "Rethinking education and celebrating the Arabic language\n",
      "A path to higher education and employment for refugees\n",
      "The \"opportunity gap\" in US public education — and how to close it\n",
      "The benefits of music education\n",
      "How education helped me rewrite my life\n",
      "How peer educators can transform sex education\n",
      "Sir Ken Robinson (still) wants an education revolution\t\n",
      "Why we need to make education more accessible to the deaf\n",
      "Why I fight for the education of refugee girls (like me)\n",
      "The case for reforming STEM education\n",
      "Help for kids the education system ignores\n",
      "How to fix a broken education system ... without any more money\n",
      "How to escape education's death valley\n",
      "What we're learning from online education\n",
      "Let's use video to reinvent education\n",
      "Changing education paradigms\n",
      "The child-driven education\n",
      "A call to reinvent liberal arts education\n",
      "A passionate, personal case for education\n",
      "Mosquitos, malaria and education\n",
      "My wish: Manufactured landscapes and green education\n"
     ]
    }
   ],
   "source": [
    "tag2 = 'education'\n",
    "\n",
    "topics = df[df['title'].str.contains(tag2)]['title']\n",
    "for i in topics:\n",
    "    print(i)"
   ]
  },
  {
   "cell_type": "code",
   "execution_count": 100,
   "id": "ac1ed104",
   "metadata": {},
   "outputs": [
    {
     "name": "stdout",
     "output_type": "stream",
     "text": [
      "Can love and independence coexist?\n",
      "The Black history of twerking — and how it taught me self-love\n",
      "A queer journey from shame to self-love\n",
      "Why should you read Toni Morrison's \"Beloved\"?\n",
      "How love can help repair social inequality\n",
      "What foods did your ancestors love?\n",
      "The necessity of normalizing queer love\n",
      "My story of love and loss as a transracial adoptee\n",
      "For the love of fangirls\n",
      "A love story for the coral reef crisis\n",
      "Make love, not porn\n",
      "Can we choose to fall out of love?\n",
      "Grief and love in the animal kingdom\n",
      "\"Everything happens for a reason\" — and other lies I've loved\n",
      "The difference between healthy and unhealthy love\n",
      "A love story about the power of art as organizing\n",
      "How ugly, unloved food can change the world\n",
      "Intimate photos of a senior love triangle\n",
      "A love letter to realism in a time of grief\n",
      "Love others to love yourself\n",
      "Why you should love gross science\n",
      "3 lessons of revolutionary love in a time of rage\n",
      "A mother and son united by love and art\n",
      "For the love of birds\n",
      "Thoughts on humanity, fame and love\n",
      "On tennis, love and motherhood\n",
      "Why you should love statistics\n",
      "A better way to talk about love\n",
      "A queer vision of love and marriage\n",
      "Technology hasn't changed love. Here's why\n",
      "My love letter to cosplay\n",
      "A sci-fi vision of love from a 318-year-old hologram\n",
      "Why do we love? A philosophical inquiry\n",
      "I love being a police officer, but we need reform\n",
      "How I teach kids to love science\n",
      "How to find work you love\n",
      "Falling in love is the easy part\n",
      "This is what enduring love looks like\n",
      "How to fix a broken school? Lead fearlessly, love hard\n",
      "Rethinking infidelity ... a talk for anyone who has ever loved\n",
      "How I fell in love with quasars, blazars and our incredible universe\n",
      "A love poem for lonely prime numbers\n",
      "The mathematics of love\n",
      "Why we love repetition in music\n",
      "Why I love a country that once betrayed me\n",
      "The loves and lies of fireflies\n",
      "How I learned to stop worrying and love \"useless\" art\n",
      "What is love?\n",
      "Why I fell in love with monster prime numbers\n",
      "Israel and Iran: A love story?\n",
      "Why I love vultures\n",
      "Poverty, money — and love\n",
      "How Mr. Condom made Thailand a better place for life and love\n",
      "Do what you love (no excuses!)\n",
      "How I fell in love with a fish\n",
      "Aliens, love — where are they?\n",
      "The brain in love\n",
      "Why we love, why we cheat\n"
     ]
    }
   ],
   "source": [
    "tag3 = 'love'\n",
    "\n",
    "topics = df[df['title'].str.contains(tag3)]['title']\n",
    "for i in topics:\n",
    "    print(i)"
   ]
  },
  {
   "cell_type": "code",
   "execution_count": null,
   "id": "c24bbc6c",
   "metadata": {},
   "outputs": [],
   "source": []
  },
  {
   "cell_type": "code",
   "execution_count": null,
   "id": "3e1fbe75",
   "metadata": {},
   "outputs": [],
   "source": []
  },
  {
   "cell_type": "markdown",
   "id": "ab9258a4",
   "metadata": {},
   "source": [
    "## finding the most popular ted talks speakers  in terms of number of views"
   ]
  },
  {
   "cell_type": "code",
   "execution_count": 101,
   "id": "1048e5cb",
   "metadata": {},
   "outputs": [
    {
     "name": "stdout",
     "output_type": "stream",
     "text": [
      "                author      views\n",
      "148       Alex Gendler  187196000\n",
      "3902  Sir Ken Robinson   95654000\n",
      "544         Bill Gates   77800000\n",
      "3895       Simon Sinek   74800000\n",
      "594        Brené Brown   72000000\n",
      "2240   Julian Treasure   64300000\n",
      "244          Amy Cuddy   64000000\n",
      "4184         Tim Urban   60000000\n",
      "1781  Iseult Gillespie   54998000\n",
      "2914     Mia Nacamulli   44174000\n"
     ]
    }
   ],
   "source": [
    "speaker_popularity = df.groupby('author')['views'].sum().reset_index()\n",
    "most_popular_speakers = speaker_popularity.sort_values(by='views', ascending=False)\n",
    "\n",
    "# Print the top 10 most popular speakers by views\n",
    "print(most_popular_speakers.head(10))\n"
   ]
  },
  {
   "cell_type": "code",
   "execution_count": null,
   "id": "3a4cf29c",
   "metadata": {},
   "outputs": [],
   "source": []
  }
 ],
 "metadata": {
  "kernelspec": {
   "display_name": "Python 3 (ipykernel)",
   "language": "python",
   "name": "python3"
  },
  "language_info": {
   "codemirror_mode": {
    "name": "ipython",
    "version": 3
   },
   "file_extension": ".py",
   "mimetype": "text/x-python",
   "name": "python",
   "nbconvert_exporter": "python",
   "pygments_lexer": "ipython3",
   "version": "3.9.7"
  }
 },
 "nbformat": 4,
 "nbformat_minor": 5
}
